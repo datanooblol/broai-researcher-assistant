{
 "cells": [
  {
   "cell_type": "code",
   "execution_count": 25,
   "id": "6d8be3a1-9008-4167-8d0f-019b61d80283",
   "metadata": {},
   "outputs": [],
   "source": [
    "%load_ext autoreload\n",
    "%autoreload 2"
   ]
  },
  {
   "cell_type": "code",
   "execution_count": 1,
   "id": "5a056b77-df90-43c8-abdd-8810daae0cf4",
   "metadata": {},
   "outputs": [],
   "source": [
    "import tiktoken"
   ]
  },
  {
   "cell_type": "code",
   "execution_count": 2,
   "id": "6cc4856e-7862-4068-8540-b549dee79458",
   "metadata": {},
   "outputs": [],
   "source": [
    "text = \"OpenAI is a private research laboratory. It aims to develop and direct artificial intelligence (AI) in ways that benefit humanity as a whole.\""
   ]
  },
  {
   "cell_type": "code",
   "execution_count": 3,
   "id": "910a6f21-f62e-4d77-a5d1-545a8d434f91",
   "metadata": {},
   "outputs": [],
   "source": [
    "encoding = tiktoken.encoding_for_model(\"gpt-3.5-turbo\")"
   ]
  },
  {
   "cell_type": "code",
   "execution_count": 4,
   "id": "446d97ce-4808-4359-b6dc-b30ef4115666",
   "metadata": {},
   "outputs": [
    {
     "data": {
      "text/plain": [
       "28"
      ]
     },
     "execution_count": 4,
     "metadata": {},
     "output_type": "execute_result"
    }
   ],
   "source": [
    "tokens = encoding.encode(text)\n",
    "len(tokens)"
   ]
  },
  {
   "cell_type": "code",
   "execution_count": 33,
   "id": "538d9b5c-2ba7-4593-bcb5-e367d0d28041",
   "metadata": {},
   "outputs": [],
   "source": [
    "import tiktoken\n",
    "def count_tokens(text):\n",
    "    encoding = tiktoken.encoding_for_model(\"gpt-3.5-turbo\")\n",
    "    tokens = encoding.encode(text)\n",
    "    return len(tokens)"
   ]
  },
  {
   "cell_type": "code",
   "execution_count": 5,
   "id": "cd5e0c35-d835-491d-97b5-bf8cb279015b",
   "metadata": {},
   "outputs": [],
   "source": [
    "import requests\n",
    "def scrape_jina_ai(url:str)->str:\n",
    "    response = requests.get(\"https://r.jina.ai/\"+url)\n",
    "    return response.text"
   ]
  },
  {
   "cell_type": "code",
   "execution_count": 16,
   "id": "96349723-43d8-4433-a078-6019eb4e9705",
   "metadata": {},
   "outputs": [],
   "source": [
    "import re\n",
    "\n",
    "def clean_up_markdown_link(markdown):\n",
    "    # cleaned_text = re.sub(r'\\[([^\\]]+)\\]\\([^)]+\\)', r'\\1', markdown)\n",
    "    cleaned_text = re.sub(r'!\\[.*?\\]\\(.*?\\)|\\[(.*?)\\]\\(.*?\\)', r'\\1', markdown)\n",
    "    return cleaned_text"
   ]
  },
  {
   "cell_type": "code",
   "execution_count": 86,
   "id": "60b10300-a399-4df8-ad25-fcea53d817a2",
   "metadata": {},
   "outputs": [],
   "source": [
    "from research_rocket.summary_agent import SummaryAgent\n",
    "from research_rocket.blog_writer import BlogWriter\n",
    "sa = SummaryAgent()\n",
    "bw = BlogWriter()"
   ]
  },
  {
   "cell_type": "markdown",
   "id": "450ac2a1-f35d-48ee-ae28-357c3312bb22",
   "metadata": {},
   "source": [
    "# Steps to create articles: \n",
    "- create outline\n",
    "- search for each section in outline and returns as contexts\n",
    "- summarize each context  \n",
    "- use all contexts under the q to summarize\n",
    "- create a blog based on outline"
   ]
  },
  {
   "cell_type": "markdown",
   "id": "5350fb33-4207-4e90-be71-516d57187b9c",
   "metadata": {},
   "source": [
    "# Token Count  \n",
    "Example:  \n",
    "\n",
    "Overview of Insurance Fraud:  \n",
    "- what is insurance fraud look like  \n",
    "- what is the impact on insurance fraud in USA  \n",
    "- how many types of insurance frauds are  \n",
    "- how to detect insurance fraud  "
   ]
  },
  {
   "cell_type": "markdown",
   "id": "da11f1a9-aee7-45c7-b765-9a1c43696ec1",
   "metadata": {},
   "source": [
    "# q1: what is insurance fraud look like  \n",
    "- https://www.insurance.ca.gov/0300-fraud/0100-fraud-division-overview/05-ins-fraud/\n",
    "- https://www.attorneygeneral.gov/protect-yourself/insurance-fraud/types-of-insurance-fraud/\n",
    "- https://www.allstate.com/resources/car-insurance/types-of-car-insurance-fraud\n",
    "- https://en.wikipedia.org/wiki/Insurance_fraud\n",
    "- https://www.vero.co.nz/vero-voice/understanding-insurance-fraud.html"
   ]
  },
  {
   "cell_type": "code",
   "execution_count": 28,
   "id": "ab2b797d-1091-4f04-a394-7a913ecede9b",
   "metadata": {},
   "outputs": [],
   "source": [
    "q1 = \"what is insurance fraud look like\""
   ]
  },
  {
   "cell_type": "code",
   "execution_count": 6,
   "id": "9f381d99-1ff5-4359-8841-cb0125076bed",
   "metadata": {},
   "outputs": [
    {
     "name": "stdout",
     "output_type": "stream",
     "text": [
      "CPU times: user 21.6 ms, sys: 5.2 ms, total: 26.8 ms\n",
      "Wall time: 24.6 s\n"
     ]
    }
   ],
   "source": [
    "%%time\n",
    "q1_urls = [\n",
    "    \"https://www.insurance.ca.gov/0300-fraud/0100-fraud-division-overview/05-ins-fraud/\",\n",
    "    \"https://www.attorneygeneral.gov/protect-yourself/insurance-fraud/types-of-insurance-fraud/\",\n",
    "    \"https://www.allstate.com/resources/car-insurance/types-of-car-insurance-fraud\",\n",
    "    \"https://en.wikipedia.org/wiki/Insurance_fraud\",\n",
    "    \"https://www.vero.co.nz/vero-voice/understanding-insurance-fraud.html\",\n",
    "]\n",
    "\n",
    "q1_texts = [scrape_jina_ai(url) for url in q1_urls]"
   ]
  },
  {
   "cell_type": "code",
   "execution_count": 17,
   "id": "99f2ffcd-5316-4822-837b-201d3f885bc8",
   "metadata": {},
   "outputs": [
    {
     "name": "stdout",
     "output_type": "stream",
     "text": [
      "CPU times: user 882 μs, sys: 0 ns, total: 882 μs\n",
      "Wall time: 888 μs\n"
     ]
    }
   ],
   "source": [
    "%%time\n",
    "q1_texts = [clean_up_markdown_link(t) for t in q1_texts]"
   ]
  },
  {
   "cell_type": "code",
   "execution_count": 42,
   "id": "5f0828bb-3301-4408-9435-54f1d0601525",
   "metadata": {},
   "outputs": [
    {
     "name": "stdout",
     "output_type": "stream",
     "text": [
      "None\n"
     ]
    }
   ],
   "source": [
    "sa = SummaryAgent()\n",
    "\n",
    "sa.run(dict(context=q1_texts[0], message=q1))"
   ]
  },
  {
   "cell_type": "code",
   "execution_count": 43,
   "id": "5aa97e59-3c02-4a5c-a8b9-bfc196a220f6",
   "metadata": {},
   "outputs": [
    {
     "data": {
      "text/plain": [
       "(59, 560, 244)"
      ]
     },
     "execution_count": 43,
     "metadata": {},
     "output_type": "execute_result"
    }
   ],
   "source": [
    "count_tokens(sa.system_prompt), count_tokens(sa.input_text), count_tokens(sa.output_text)"
   ]
  },
  {
   "cell_type": "code",
   "execution_count": 40,
   "id": "1fd0e7be-b1ae-417f-8609-93e62735f5e2",
   "metadata": {},
   "outputs": [
    {
     "data": {
      "text/plain": [
       "560"
      ]
     },
     "execution_count": 40,
     "metadata": {},
     "output_type": "execute_result"
    }
   ],
   "source": [
    "count_tokens(sa.input_text)"
   ]
  },
  {
   "cell_type": "code",
   "execution_count": 36,
   "id": "27441159-dcac-4ca5-b26e-d4c899dd995b",
   "metadata": {},
   "outputs": [
    {
     "data": {
      "text/plain": [
       "59"
      ]
     },
     "execution_count": 36,
     "metadata": {},
     "output_type": "execute_result"
    }
   ],
   "source": [
    "count_tokens(sa.agent.prompt_generator.as_prompt())"
   ]
  },
  {
   "cell_type": "code",
   "execution_count": 34,
   "id": "729cf251-3f07-4cc0-8e56-bd195ed1f06d",
   "metadata": {},
   "outputs": [
    {
     "data": {
      "text/plain": [
       "244"
      ]
     },
     "execution_count": 34,
     "metadata": {},
     "output_type": "execute_result"
    }
   ],
   "source": [
    "count_tokens(_answer)"
   ]
  },
  {
   "cell_type": "markdown",
   "id": "ecbc1967-5c15-4ce9-8a33-ff5ccdf37388",
   "metadata": {},
   "source": [
    "# q2: what is the impact on insurance fraud in USA  \n",
    "- https://insurancefraud.org/fraud-stats/\n",
    "- https://www.conroysimberg.com/blog/insurance-fraud-costs-the-u-s-308-billion-annually/\n",
    "- https://legal.thomsonreuters.com/en/insights/articles/identity-frauds-impact-on-the-insurance-sector\n",
    "- https://www.webberwentzel.com/News/Pages/the-costs-and-consequences-of-insurance-fraud.aspx\n",
    "- https://www.insurance.ca.gov/01-consumers/105-type/95-guides/15-gen/insur-fraud-is-felony.cfm"
   ]
  },
  {
   "cell_type": "code",
   "execution_count": 44,
   "id": "1abaad6c-45d5-4c67-9ec7-dc971b65a975",
   "metadata": {},
   "outputs": [],
   "source": [
    "q2 = \"what is the impact on insurance fraud in USA\""
   ]
  },
  {
   "cell_type": "code",
   "execution_count": 19,
   "id": "bc1bb1d5-45da-4bf3-aac6-b7118f8fd4ab",
   "metadata": {},
   "outputs": [
    {
     "name": "stdout",
     "output_type": "stream",
     "text": [
      "CPU times: user 27.4 ms, sys: 0 ns, total: 27.4 ms\n",
      "Wall time: 41.6 s\n"
     ]
    }
   ],
   "source": [
    "%%time\n",
    "q2_urls = [\n",
    "    \"https://insurancefraud.org/fraud-stats/\",\n",
    "    \"https://www.conroysimberg.com/blog/insurance-fraud-costs-the-u-s-308-billion-annually/\",\n",
    "    \"https://legal.thomsonreuters.com/en/insights/articles/identity-frauds-impact-on-the-insurance-sector\",\n",
    "    \"https://www.webberwentzel.com/News/Pages/the-costs-and-consequences-of-insurance-fraud.aspx\",\n",
    "    \"https://www.insurance.ca.gov/01-consumers/105-type/95-guides/15-gen/insur-fraud-is-felony.cfm\",\n",
    "]\n",
    "\n",
    "q2_texts = [scrape_jina_ai(url) for url in q2_urls]"
   ]
  },
  {
   "cell_type": "code",
   "execution_count": 20,
   "id": "d2d7290a-57d0-4c8d-9088-7e054b1948a8",
   "metadata": {},
   "outputs": [],
   "source": [
    "q2_texts = [clean_up_markdown_link(t) for t in q2_texts]"
   ]
  },
  {
   "cell_type": "markdown",
   "id": "fa3d95f3-d898-488b-b532-b316cc92be0b",
   "metadata": {},
   "source": [
    "# q3: how many types of insurance frauds are  \n",
    "- https://en.wikipedia.org/wiki/Insurance_fraud#:~:text=6.25%20billion%20annually.-,Types%20of%20insurance%20fraud,to%20claim%20payment%20for%20damages.\n",
    "- https://www.attorneygeneral.gov/protect-yourself/insurance-fraud/types-of-insurance-fraud/\n",
    "- https://helpstopfraud.org/insurance-fraud/types-of-insurance-fraud/\n",
    "- https://www.tdi.texas.gov/fraud/types-of-fraud.html\n",
    "- https://ifb.org.nz/what-is-fraud/types-of-fraud/"
   ]
  },
  {
   "cell_type": "code",
   "execution_count": 45,
   "id": "e20614c7-b849-4f05-9321-1e144f5a098e",
   "metadata": {},
   "outputs": [],
   "source": [
    "q3 = \"how many types of insurance frauds are\""
   ]
  },
  {
   "cell_type": "code",
   "execution_count": 21,
   "id": "64d6bcd5-713a-4c12-9f43-bed3b2042f97",
   "metadata": {},
   "outputs": [
    {
     "name": "stdout",
     "output_type": "stream",
     "text": [
      "CPU times: user 24.3 ms, sys: 3.64 ms, total: 27.9 ms\n",
      "Wall time: 1min 8s\n"
     ]
    }
   ],
   "source": [
    "%%time\n",
    "q3_urls = [\n",
    "    \"https://en.wikipedia.org/wiki/Insurance_fraud#:~:text=6.25%20billion%20annually.-,Types%20of%20insurance%20fraud,to%20claim%20payment%20for%20damages.\",\n",
    "    \"https://www.attorneygeneral.gov/protect-yourself/insurance-fraud/types-of-insurance-fraud/\",\n",
    "    \"https://helpstopfraud.org/insurance-fraud/types-of-insurance-fraud/\",\n",
    "    \"https://www.tdi.texas.gov/fraud/types-of-fraud.html\",\n",
    "    \"https://ifb.org.nz/what-is-fraud/types-of-fraud/\",\n",
    "]\n",
    "\n",
    "q3_texts = [scrape_jina_ai(url) for url in q3_urls]"
   ]
  },
  {
   "cell_type": "code",
   "execution_count": 22,
   "id": "43fcaf8c-bedf-42a8-9f0b-7fbd0f163e15",
   "metadata": {},
   "outputs": [],
   "source": [
    "q3_texts = [clean_up_markdown_link(t) for t in q3_texts]"
   ]
  },
  {
   "cell_type": "markdown",
   "id": "7a30b9c3-8961-49d9-968d-14ced77010ad",
   "metadata": {},
   "source": [
    "# q4: how to detect insurance fraud  \n",
    "- https://www.cigniti.com/blog/fraud-detection-insurance-claim-process-artificial-intelligence/\n",
    "- https://www.unit21.ai/blog/combating-insurance-fraud\n",
    "- https://www.caseiq.com/resources/the-ultimate-guide-to-insurance-fraud-investigations/\n",
    "- https://www.wipro.com/analytics/comparative-analysis-of-machine-learning-techniques-for-detectin/\n",
    "- https://risk.lexisnexis.co.uk/insights-resources/article/how-to-detect-insurance-fraud"
   ]
  },
  {
   "cell_type": "code",
   "execution_count": 46,
   "id": "cf2b8871-b924-48c9-93ed-10fe68995a01",
   "metadata": {},
   "outputs": [],
   "source": [
    "q4 = \"how to detect insurance fraud\""
   ]
  },
  {
   "cell_type": "code",
   "execution_count": 23,
   "id": "9cc15697-6a17-4baf-83e4-522493f07751",
   "metadata": {},
   "outputs": [
    {
     "name": "stdout",
     "output_type": "stream",
     "text": [
      "CPU times: user 25.8 ms, sys: 3.9 ms, total: 29.7 ms\n",
      "Wall time: 1min 29s\n"
     ]
    }
   ],
   "source": [
    "%%time\n",
    "q4_urls = [\n",
    "    \"https://www.cigniti.com/blog/fraud-detection-insurance-claim-process-artificial-intelligence/\",\n",
    "    \"https://www.unit21.ai/blog/combating-insurance-fraud\",\n",
    "    \"https://www.caseiq.com/resources/the-ultimate-guide-to-insurance-fraud-investigations/\",\n",
    "    \"https://www.wipro.com/analytics/comparative-analysis-of-machine-learning-techniques-for-detectin/\",\n",
    "    \"https://risk.lexisnexis.co.uk/insights-resources/article/how-to-detect-insurance-fraud\",\n",
    "]\n",
    "\n",
    "q4_texts = [scrape_jina_ai(url) for url in q4_urls]"
   ]
  },
  {
   "cell_type": "code",
   "execution_count": 24,
   "id": "8199ee84-1ba0-4785-a69c-1ec525851888",
   "metadata": {},
   "outputs": [],
   "source": [
    "q4_texts = [clean_up_markdown_link(t) for t in q4_texts]"
   ]
  },
  {
   "cell_type": "markdown",
   "id": "539b4f7e-189c-459c-9b48-b49c3303ea8b",
   "metadata": {},
   "source": [
    "# Setup"
   ]
  },
  {
   "cell_type": "code",
   "execution_count": 61,
   "id": "81020659-96f5-41b8-8dbd-ddd19beb3af3",
   "metadata": {},
   "outputs": [],
   "source": [
    "from pydantic import BaseModel, Field\n",
    "from typing import List\n",
    "\n",
    "class RawContext(BaseModel):\n",
    "    question:str = Field()\n",
    "    context:str = Field()\n",
    "    input_text:str = Field()\n",
    "    system_prompt:str = Field()\n",
    "    output_text:str = Field()\n",
    "\n",
    "class RawContexts(BaseModel):\n",
    "    contexts:List[RawContext]"
   ]
  },
  {
   "cell_type": "code",
   "execution_count": 63,
   "id": "ff8685ab-c6ce-41e9-a007-c44b38ff1e46",
   "metadata": {},
   "outputs": [
    {
     "name": "stdout",
     "output_type": "stream",
     "text": [
      "CPU times: user 749 ms, sys: 5.19 ms, total: 754 ms\n",
      "Wall time: 1min 21s\n"
     ]
    }
   ],
   "source": [
    "%%time\n",
    "raw_contexts = []\n",
    "\n",
    "questions = [\n",
    "    (q1, q1_texts), \n",
    "    (q2, q2_texts), \n",
    "    (q3, q3_texts), \n",
    "    (q4, q4_texts), \n",
    "]\n",
    "\n",
    "for q, texts in questions:\n",
    "    for t in texts:\n",
    "        sa = SummaryAgent()\n",
    "        input_dict = dict(context=t, message=q)\n",
    "        sa.run(request=input_dict)\n",
    "        raw_contexts.append(\n",
    "            RawContext(\n",
    "                question=q,\n",
    "                context=t,\n",
    "                input_text=sa.input_text,\n",
    "                system_prompt=sa.system_prompt,\n",
    "                output_text=sa.output_text\n",
    "            )\n",
    "        )"
   ]
  },
  {
   "cell_type": "code",
   "execution_count": 64,
   "id": "5bb7c3e3-0e84-42a3-a7d4-0bf1dd9c797d",
   "metadata": {},
   "outputs": [
    {
     "data": {
      "text/plain": [
       "20"
      ]
     },
     "execution_count": 64,
     "metadata": {},
     "output_type": "execute_result"
    }
   ],
   "source": [
    "len(raw_contexts)"
   ]
  },
  {
   "cell_type": "code",
   "execution_count": 65,
   "id": "999b2fd4-e17b-4d1d-ad05-c0338918c1a1",
   "metadata": {},
   "outputs": [
    {
     "data": {
      "text/plain": [
       "\"Insurance fraud occurs when someone knowingly lies to obtain a benefit or advantage to which they are not otherwise entitled, or when someone knowingly denies a benefit that is due and to which someone is entitled. This can be done with the intent to defraud, and it doesn't necessarily require actual monetary loss.\\n\\nSome examples of insurance fraud include:\\n\\n- Making false claims for automobile property and personal injury\\n- Falsifying information on workers' compensation claims\\n- Misrepresenting information on health insurance claims\\n- Filing false claims for residential and commercial property damage\\n\\nInsurance fraud can take many forms, but it often involves making false statements or misrepresenting information to an insurer in order to receive a benefit or advantage that is not rightfully owed.\""
      ]
     },
     "execution_count": 65,
     "metadata": {},
     "output_type": "execute_result"
    }
   ],
   "source": [
    "raw_contexts[0].output_text"
   ]
  },
  {
   "cell_type": "markdown",
   "id": "dc2b44a2-b2a4-475a-8d25-c8b21457d5ce",
   "metadata": {},
   "source": [
    "## raw_contexts[-1].output_text"
   ]
  },
  {
   "cell_type": "code",
   "execution_count": 67,
   "id": "dc9e7033-ec71-40d5-a969-49a003f85962",
   "metadata": {},
   "outputs": [],
   "source": [
    "outline = \"\"\"\n",
    "Overview of Insurance Fraud:  \n",
    "- what is insurance fraud look like  \n",
    "- what is the impact on insurance fraud in USA  \n",
    "- how many types of insurance frauds are  \n",
    "- how to detect insurance fraud  \n",
    "\"\"\""
   ]
  },
  {
   "cell_type": "code",
   "execution_count": 69,
   "id": "ae8e25c8-a393-4798-ae33-61741aa2105d",
   "metadata": {},
   "outputs": [],
   "source": [
    "message = \"Write a blog based on the outline and make the language simple and easy to understand\""
   ]
  },
  {
   "cell_type": "code",
   "execution_count": 71,
   "id": "d4446268-a707-4ec9-9d06-a2a919bcab02",
   "metadata": {},
   "outputs": [
    {
     "data": {
      "text/plain": [
       "'what is insurance fraud look like'"
      ]
     },
     "execution_count": 71,
     "metadata": {},
     "output_type": "execute_result"
    }
   ],
   "source": [
    "raw_contexts[0].question"
   ]
  },
  {
   "cell_type": "code",
   "execution_count": 72,
   "id": "4a905751-abd3-4256-9eef-74ea144c0fd8",
   "metadata": {},
   "outputs": [
    {
     "data": {
      "text/plain": [
       "\"Insurance fraud occurs when someone knowingly lies to obtain a benefit or advantage to which they are not otherwise entitled, or when someone knowingly denies a benefit that is due and to which someone is entitled. This can be done with the intent to defraud, and it doesn't necessarily require actual monetary loss.\\n\\nSome examples of insurance fraud include:\\n\\n- Making false claims for automobile property and personal injury\\n- Falsifying information on workers' compensation claims\\n- Misrepresenting information on health insurance claims\\n- Filing false claims for residential and commercial property damage\\n\\nInsurance fraud can take many forms, but it often involves making false statements or misrepresenting information to an insurer in order to receive a benefit or advantage that is not rightfully owed.\""
      ]
     },
     "execution_count": 72,
     "metadata": {},
     "output_type": "execute_result"
    }
   ],
   "source": [
    "raw_contexts[0].output_text"
   ]
  },
  {
   "cell_type": "code",
   "execution_count": 73,
   "id": "6d2af6a4-01e5-42c8-a613-840936027516",
   "metadata": {},
   "outputs": [],
   "source": [
    "q_list = []\n",
    "draft_dict = {}\n",
    "for rc in raw_contexts:\n",
    "    if rc.question not in q_list:\n",
    "        q_list.append(rc.question)\n",
    "        draft_dict[rc.question] = [rc.output_text]\n",
    "    else:\n",
    "        draft_dict[rc.question].append(rc.output_text)\n",
    "    "
   ]
  },
  {
   "cell_type": "code",
   "execution_count": 75,
   "id": "7ec20403-7198-4cfb-a4dc-610fca80b309",
   "metadata": {},
   "outputs": [
    {
     "data": {
      "text/plain": [
       "dict_keys(['what is insurance fraud look like', 'what is the impact on insurance fraud in USA', 'how many types of insurance frauds are', 'how to detect insurance fraud'])"
      ]
     },
     "execution_count": 75,
     "metadata": {},
     "output_type": "execute_result"
    }
   ],
   "source": [
    "draft_dict.keys()"
   ]
  },
  {
   "cell_type": "code",
   "execution_count": 77,
   "id": "805273de-619e-4780-b18e-b81312a90125",
   "metadata": {},
   "outputs": [
    {
     "data": {
      "text/plain": [
       "5"
      ]
     },
     "execution_count": 77,
     "metadata": {},
     "output_type": "execute_result"
    }
   ],
   "source": [
    "len(draft_dict['what is insurance fraud look like'])"
   ]
  },
  {
   "cell_type": "code",
   "execution_count": 81,
   "id": "0321ed4a-ed17-4054-9838-0a27f1c9a4d7",
   "metadata": {},
   "outputs": [],
   "source": [
    "draft_list = []\n",
    "for k,v in draft_dict.items():\n",
    "    draft_list.append(\n",
    "        \"## {k}\\n{v}\".format(k=k, v='\\n'.join(v))\n",
    "    )"
   ]
  },
  {
   "cell_type": "code",
   "execution_count": 83,
   "id": "656be348-3542-419f-bd45-cc4c26217593",
   "metadata": {},
   "outputs": [],
   "source": [
    "draft = \"\\n\".join(draft_list)"
   ]
  },
  {
   "cell_type": "code",
   "execution_count": 87,
   "id": "fa2262d6-8eed-44b2-bcd5-2f82681e1b38",
   "metadata": {},
   "outputs": [
    {
     "name": "stdout",
     "output_type": "stream",
     "text": [
      "CPU times: user 38.7 ms, sys: 290 μs, total: 39 ms\n",
      "Wall time: 6.23 s\n"
     ]
    }
   ],
   "source": [
    "%%time\n",
    "\n",
    "bw.run(request=dict(\n",
    "    draft=draft,\n",
    "    outline=outline,\n",
    "    message=message\n",
    "))"
   ]
  },
  {
   "cell_type": "code",
   "execution_count": 88,
   "id": "dfd2c93e-5463-45ae-b3d0-0c807838faab",
   "metadata": {},
   "outputs": [
    {
     "name": "stdout",
     "output_type": "stream",
     "text": [
      "**Understanding Insurance Fraud: Types, Impact, and Detection**\n",
      "\n",
      "As a responsible and informed individual, it's essential to understand the concept of insurance fraud, its various types, and its impact on the insurance industry and the economy. In this blog, we'll delve into the world of insurance fraud, exploring what it looks like, its effects on the USA, the different types of insurance fraud, and how to detect it.\n",
      "\n",
      "**What is Insurance Fraud?**\n",
      "\n",
      "Insurance fraud occurs when someone intentionally deceives or misleads an insurance company to receive benefits or payments they're not entitled to. This can be done by providing false information, exaggerating claims, or staging accidents. Insurance fraud can take many forms, including auto, health, life, and property insurance fraud. It's a serious crime that affects not only insurance companies but also policyholders, as it leads to increased premiums and reduced coverage.\n",
      "\n",
      "**The Impact of Insurance Fraud in the USA**\n",
      "\n",
      "The impact of insurance fraud in the USA is significant, with estimated losses ranging from $30 billion to $40 billion annually. This translates to increased premiums for policyholders, reduced coverage, and a higher financial burden on the economy. Insurance fraud also undermines trust in the insurance industry, making it challenging for companies to provide affordable and reliable coverage.\n",
      "\n",
      "**Types of Insurance Fraud**\n",
      "\n",
      "There are several types of insurance fraud, including:\n",
      "\n",
      "1. **Hard Fraud**: Deliberately planning or inventing a loss, such as a collision or theft, to claim insurance benefits.\n",
      "2. **Soft Fraud**: Exaggerating or misrepresenting information on an insurance claim, such as overstating the extent of damages.\n",
      "3. **Auto Insurance Fraud**: Staging accidents, falsifying claims, or providing false information to receive auto insurance benefits.\n",
      "4. **Health Insurance Fraud**: Billing for services not provided, exaggerating medical conditions, or providing false information to receive health insurance benefits.\n",
      "5. **Life Insurance Fraud**: Faking death, misrepresenting information on life insurance applications, or providing false information to receive life insurance benefits.\n",
      "6. **Property Insurance Fraud**: Falsifying claims, exaggerating damages, or providing false information to receive property insurance benefits.\n",
      "\n",
      "**Detecting Insurance Fraud**\n",
      "\n",
      "Detecting insurance fraud requires a combination of data analysis, risk assessment, investigative techniques, technology, and collaboration. Insurance companies can use various methods, including:\n",
      "\n",
      "1. **Data Analysis**: Reviewing policyholder data, claims data, and other relevant information to identify patterns or anomalies.\n",
      "2. **Risk Assessment**: Evaluating the risk of fraud based on factors such as policy type, policyholder history, and claim amount.\n",
      "3. **Investigative Techniques**: Conducting investigations into suspicious claims or policyholder activity.\n",
      "4. **Technology**: Utilizing advanced technologies, such as artificial intelligence and machine learning, to identify and prevent insurance fraud.\n",
      "5. **Collaboration**: Working with other insurance companies, law enforcement agencies, and regulatory bodies to share information and best practices.\n",
      "\n",
      "By understanding the types of insurance fraud, their impact, and how to detect them, we can work together to prevent insurance fraud and maintain the integrity of the insurance industry. Remember, insurance fraud affects us all, and it's essential to be vigilant and report any suspicious activity to the authorities.\n"
     ]
    }
   ],
   "source": [
    "print(bw.output_text)"
   ]
  },
  {
   "cell_type": "code",
   "execution_count": 92,
   "id": "b81d949a-6a5d-4195-9b1d-0e847ca37a0a",
   "metadata": {},
   "outputs": [
    {
     "data": {
      "text/plain": [
       "10670"
      ]
     },
     "execution_count": 92,
     "metadata": {},
     "output_type": "execute_result"
    }
   ],
   "source": [
    "model_11b_tokens = 0\n",
    "for rc in raw_contexts:\n",
    "    model_11b_tokens = 0\n",
    "    model_11b_tokens += count_tokens(rc.system_prompt)\n",
    "    model_11b_tokens += count_tokens(rc.input_text)\n",
    "    model_11b_tokens += count_tokens(rc.output_text)\n",
    "model_11b_tokens"
   ]
  },
  {
   "cell_type": "code",
   "execution_count": 115,
   "id": "0619fd55-504b-4cc9-961f-e21e6ede1cf9",
   "metadata": {},
   "outputs": [
    {
     "data": {
      "text/plain": [
       "59"
      ]
     },
     "execution_count": 115,
     "metadata": {},
     "output_type": "execute_result"
    }
   ],
   "source": [
    "count_tokens(rc.system_prompt)"
   ]
  },
  {
   "cell_type": "code",
   "execution_count": 116,
   "id": "f4134b79-6ce7-42b7-adf9-6531b0b4f457",
   "metadata": {},
   "outputs": [
    {
     "data": {
      "text/plain": [
       "10266"
      ]
     },
     "execution_count": 116,
     "metadata": {},
     "output_type": "execute_result"
    }
   ],
   "source": [
    "count_tokens(rc.input_text)"
   ]
  },
  {
   "cell_type": "code",
   "execution_count": 117,
   "id": "010e0d57-f5e9-4cd0-b001-2b56709cb9f6",
   "metadata": {},
   "outputs": [
    {
     "data": {
      "text/plain": [
       "345"
      ]
     },
     "execution_count": 117,
     "metadata": {},
     "output_type": "execute_result"
    }
   ],
   "source": [
    "count_tokens(rc.output_text)"
   ]
  },
  {
   "cell_type": "code",
   "execution_count": 96,
   "id": "f3a7706e-7cc9-4d07-95c1-774acb04b882",
   "metadata": {},
   "outputs": [],
   "source": [
    "model_11b_price = 0.00016\n",
    "model_70b_price = 0.00072"
   ]
  },
  {
   "cell_type": "code",
   "execution_count": 114,
   "id": "df222367-37c0-4204-beeb-575b71f3844b",
   "metadata": {},
   "outputs": [],
   "source": [
    "rc.system_prompt"
   ]
  },
  {
   "cell_type": "code",
   "execution_count": 91,
   "id": "e3cd5934-617c-4d55-b998-65db6313031a",
   "metadata": {},
   "outputs": [
    {
     "data": {
      "text/plain": [
       "6844"
      ]
     },
     "execution_count": 91,
     "metadata": {},
     "output_type": "execute_result"
    }
   ],
   "source": [
    "model_70b_tokens = 0\n",
    "model_70b_tokens += count_tokens(bw.system_prompt)\n",
    "model_70b_tokens += count_tokens(bw.input_text)\n",
    "model_70b_tokens += count_tokens(bw.output_text)\n",
    "model_70b_tokens"
   ]
  },
  {
   "cell_type": "code",
   "execution_count": 101,
   "id": "520cfe85-41f6-45bc-8b13-ebe8a0eaf112",
   "metadata": {},
   "outputs": [],
   "source": [
    "token_batch = 1000\n",
    "THB = 33"
   ]
  },
  {
   "cell_type": "code",
   "execution_count": 104,
   "id": "8b000f65-c248-40f2-86ef-c90f32fa45f4",
   "metadata": {},
   "outputs": [
    {
     "data": {
      "text/plain": [
       "0.0563376"
      ]
     },
     "execution_count": 104,
     "metadata": {},
     "output_type": "execute_result"
    }
   ],
   "source": [
    "m11b_price_thb = ((model_11b_tokens/token_batch) * model_11b_price) * THB\n",
    "m11b_price_thb"
   ]
  },
  {
   "cell_type": "code",
   "execution_count": 105,
   "id": "3216dba9-f580-4d42-b3ad-cb917d0be095",
   "metadata": {},
   "outputs": [
    {
     "data": {
      "text/plain": [
       "0.16261344"
      ]
     },
     "execution_count": 105,
     "metadata": {},
     "output_type": "execute_result"
    }
   ],
   "source": [
    "m70b_price_thb = ((model_70b_tokens/token_batch) * model_70b_price) * THB\n",
    "m70b_price_thb"
   ]
  },
  {
   "cell_type": "code",
   "execution_count": null,
   "id": "41ca0c34-751d-4b7d-8131-e120078aad67",
   "metadata": {},
   "outputs": [],
   "source": []
  }
 ],
 "metadata": {
  "kernelspec": {
   "display_name": "broai-ra",
   "language": "python",
   "name": "broai-ra"
  },
  "language_info": {
   "codemirror_mode": {
    "name": "ipython",
    "version": 3
   },
   "file_extension": ".py",
   "mimetype": "text/x-python",
   "name": "python",
   "nbconvert_exporter": "python",
   "pygments_lexer": "ipython3",
   "version": "3.11.12"
  }
 },
 "nbformat": 4,
 "nbformat_minor": 5
}
